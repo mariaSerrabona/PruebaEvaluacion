{
 "cells": [
  {
   "cell_type": "code",
   "execution_count": 68,
   "id": "70a97e44-07a2-4a28-93a3-6ea1518cfd4b",
   "metadata": {},
   "outputs": [],
   "source": [
    "import pandas as pd\n",
    "import numpy as np"
   ]
  },
  {
   "cell_type": "code",
   "execution_count": 69,
   "id": "3a1e3b28-7b1c-4212-bc1f-8cd0f102de37",
   "metadata": {},
   "outputs": [
    {
     "data": {
      "text/html": [
       "<div>\n",
       "<style scoped>\n",
       "    .dataframe tbody tr th:only-of-type {\n",
       "        vertical-align: middle;\n",
       "    }\n",
       "\n",
       "    .dataframe tbody tr th {\n",
       "        vertical-align: top;\n",
       "    }\n",
       "\n",
       "    .dataframe thead th {\n",
       "        text-align: right;\n",
       "    }\n",
       "</style>\n",
       "<table border=\"1\" class=\"dataframe\">\n",
       "  <thead>\n",
       "    <tr style=\"text-align: right;\">\n",
       "      <th></th>\n",
       "      <th>18.0   8.   307.0      130.0      3504.      12.0   70.  1.\\t\"chevrolet chevelle malibu\"</th>\n",
       "    </tr>\n",
       "  </thead>\n",
       "  <tbody>\n",
       "    <tr>\n",
       "      <th>0</th>\n",
       "      <td>15.0   8.   350.0      165.0      3693.      1...</td>\n",
       "    </tr>\n",
       "    <tr>\n",
       "      <th>1</th>\n",
       "      <td>18.0   8.   318.0      150.0      3436.      1...</td>\n",
       "    </tr>\n",
       "    <tr>\n",
       "      <th>2</th>\n",
       "      <td>16.0   8.   304.0      150.0      3433.      1...</td>\n",
       "    </tr>\n",
       "    <tr>\n",
       "      <th>3</th>\n",
       "      <td>17.0   8.   302.0      140.0      3449.      1...</td>\n",
       "    </tr>\n",
       "    <tr>\n",
       "      <th>4</th>\n",
       "      <td>15.0   8.   429.0      198.0      4341.      1...</td>\n",
       "    </tr>\n",
       "    <tr>\n",
       "      <th>...</th>\n",
       "      <td>...</td>\n",
       "    </tr>\n",
       "    <tr>\n",
       "      <th>400</th>\n",
       "      <td>27.0   4.   140.0      86.00      2790.      1...</td>\n",
       "    </tr>\n",
       "    <tr>\n",
       "      <th>401</th>\n",
       "      <td>44.0   4.   97.00      52.00      2130.      2...</td>\n",
       "    </tr>\n",
       "    <tr>\n",
       "      <th>402</th>\n",
       "      <td>32.0   4.   135.0      84.00      2295.      1...</td>\n",
       "    </tr>\n",
       "    <tr>\n",
       "      <th>403</th>\n",
       "      <td>28.0   4.   120.0      79.00      2625.      1...</td>\n",
       "    </tr>\n",
       "    <tr>\n",
       "      <th>404</th>\n",
       "      <td>31.0   4.   119.0      82.00      2720.      1...</td>\n",
       "    </tr>\n",
       "  </tbody>\n",
       "</table>\n",
       "<p>405 rows × 1 columns</p>\n",
       "</div>"
      ],
      "text/plain": [
       "    18.0   8.   307.0      130.0      3504.      12.0   70.  1.\\t\"chevrolet chevelle malibu\"\n",
       "0    15.0   8.   350.0      165.0      3693.      1...                                      \n",
       "1    18.0   8.   318.0      150.0      3436.      1...                                      \n",
       "2    16.0   8.   304.0      150.0      3433.      1...                                      \n",
       "3    17.0   8.   302.0      140.0      3449.      1...                                      \n",
       "4    15.0   8.   429.0      198.0      4341.      1...                                      \n",
       "..                                                 ...                                      \n",
       "400  27.0   4.   140.0      86.00      2790.      1...                                      \n",
       "401  44.0   4.   97.00      52.00      2130.      2...                                      \n",
       "402  32.0   4.   135.0      84.00      2295.      1...                                      \n",
       "403  28.0   4.   120.0      79.00      2625.      1...                                      \n",
       "404  31.0   4.   119.0      82.00      2720.      1...                                      \n",
       "\n",
       "[405 rows x 1 columns]"
      ]
     },
     "execution_count": 69,
     "metadata": {},
     "output_type": "execute_result"
    }
   ],
   "source": [
    "autos = pd.read_csv('autos.csv', delimiter=';')\n",
    "autos"
   ]
  },
  {
   "cell_type": "markdown",
   "id": "c380182b-860a-4e2e-8edb-1f5da240b2f4",
   "metadata": {},
   "source": [
    "Miramos a ver si tenemos algun valor nulo"
   ]
  },
  {
   "cell_type": "code",
   "execution_count": 70,
   "id": "59d12633-4abf-426e-a99a-799cd2a8967f",
   "metadata": {},
   "outputs": [
    {
     "data": {
      "text/plain": [
       "18.0   8.   307.0      130.0      3504.      12.0   70.  1.\\t\"chevrolet chevelle malibu\"    0\n",
       "dtype: int64"
      ]
     },
     "execution_count": 70,
     "metadata": {},
     "output_type": "execute_result"
    }
   ],
   "source": [
    "autos.isna().sum()"
   ]
  },
  {
   "cell_type": "code",
   "execution_count": 72,
   "id": "3f19ca65-07b4-4456-bbd7-16d055bc802d",
   "metadata": {},
   "outputs": [
    {
     "data": {
      "text/html": [
       "<div>\n",
       "<style scoped>\n",
       "    .dataframe tbody tr th:only-of-type {\n",
       "        vertical-align: middle;\n",
       "    }\n",
       "\n",
       "    .dataframe tbody tr th {\n",
       "        vertical-align: top;\n",
       "    }\n",
       "\n",
       "    .dataframe thead th {\n",
       "        text-align: right;\n",
       "    }\n",
       "</style>\n",
       "<table border=\"1\" class=\"dataframe\">\n",
       "  <thead>\n",
       "    <tr style=\"text-align: right;\">\n",
       "      <th></th>\n",
       "      <th>MPG</th>\n",
       "      <th>Cylinders</th>\n",
       "      <th>Displacement</th>\n",
       "      <th>Horse power</th>\n",
       "      <th>Weight</th>\n",
       "      <th>Acceleration</th>\n",
       "      <th>Model Year</th>\n",
       "      <th>Origin</th>\n",
       "      <th>Car Name</th>\n",
       "    </tr>\n",
       "  </thead>\n",
       "  <tbody>\n",
       "    <tr>\n",
       "      <th>0</th>\n",
       "      <td>18.0</td>\n",
       "      <td>8.0</td>\n",
       "      <td>307.0</td>\n",
       "      <td>130.0</td>\n",
       "      <td>3504.0</td>\n",
       "      <td>12.0</td>\n",
       "      <td>70.0</td>\n",
       "      <td>1.0</td>\n",
       "      <td>chevrolet chevelle malibu</td>\n",
       "    </tr>\n",
       "    <tr>\n",
       "      <th>1</th>\n",
       "      <td>15.0</td>\n",
       "      <td>8.0</td>\n",
       "      <td>350.0</td>\n",
       "      <td>165.0</td>\n",
       "      <td>3693.0</td>\n",
       "      <td>11.5</td>\n",
       "      <td>70.0</td>\n",
       "      <td>1.0</td>\n",
       "      <td>buick skylark 320</td>\n",
       "    </tr>\n",
       "    <tr>\n",
       "      <th>2</th>\n",
       "      <td>18.0</td>\n",
       "      <td>8.0</td>\n",
       "      <td>318.0</td>\n",
       "      <td>150.0</td>\n",
       "      <td>3436.0</td>\n",
       "      <td>11.0</td>\n",
       "      <td>70.0</td>\n",
       "      <td>1.0</td>\n",
       "      <td>plymouth satellite</td>\n",
       "    </tr>\n",
       "    <tr>\n",
       "      <th>3</th>\n",
       "      <td>16.0</td>\n",
       "      <td>8.0</td>\n",
       "      <td>304.0</td>\n",
       "      <td>150.0</td>\n",
       "      <td>3433.0</td>\n",
       "      <td>12.0</td>\n",
       "      <td>70.0</td>\n",
       "      <td>1.0</td>\n",
       "      <td>amc rebel sst</td>\n",
       "    </tr>\n",
       "    <tr>\n",
       "      <th>4</th>\n",
       "      <td>17.0</td>\n",
       "      <td>8.0</td>\n",
       "      <td>302.0</td>\n",
       "      <td>140.0</td>\n",
       "      <td>3449.0</td>\n",
       "      <td>10.5</td>\n",
       "      <td>70.0</td>\n",
       "      <td>1.0</td>\n",
       "      <td>ford torino</td>\n",
       "    </tr>\n",
       "    <tr>\n",
       "      <th>...</th>\n",
       "      <td>...</td>\n",
       "      <td>...</td>\n",
       "      <td>...</td>\n",
       "      <td>...</td>\n",
       "      <td>...</td>\n",
       "      <td>...</td>\n",
       "      <td>...</td>\n",
       "      <td>...</td>\n",
       "      <td>...</td>\n",
       "    </tr>\n",
       "    <tr>\n",
       "      <th>401</th>\n",
       "      <td>27.0</td>\n",
       "      <td>4.0</td>\n",
       "      <td>140.0</td>\n",
       "      <td>86.0</td>\n",
       "      <td>2790.0</td>\n",
       "      <td>15.6</td>\n",
       "      <td>82.0</td>\n",
       "      <td>1.0</td>\n",
       "      <td>ford mustang gl</td>\n",
       "    </tr>\n",
       "    <tr>\n",
       "      <th>402</th>\n",
       "      <td>44.0</td>\n",
       "      <td>4.0</td>\n",
       "      <td>97.0</td>\n",
       "      <td>52.0</td>\n",
       "      <td>2130.0</td>\n",
       "      <td>24.6</td>\n",
       "      <td>82.0</td>\n",
       "      <td>2.0</td>\n",
       "      <td>vw pickup</td>\n",
       "    </tr>\n",
       "    <tr>\n",
       "      <th>403</th>\n",
       "      <td>32.0</td>\n",
       "      <td>4.0</td>\n",
       "      <td>135.0</td>\n",
       "      <td>84.0</td>\n",
       "      <td>2295.0</td>\n",
       "      <td>11.6</td>\n",
       "      <td>82.0</td>\n",
       "      <td>1.0</td>\n",
       "      <td>dodge rampage</td>\n",
       "    </tr>\n",
       "    <tr>\n",
       "      <th>404</th>\n",
       "      <td>28.0</td>\n",
       "      <td>4.0</td>\n",
       "      <td>120.0</td>\n",
       "      <td>79.0</td>\n",
       "      <td>2625.0</td>\n",
       "      <td>18.6</td>\n",
       "      <td>82.0</td>\n",
       "      <td>1.0</td>\n",
       "      <td>ford ranger</td>\n",
       "    </tr>\n",
       "    <tr>\n",
       "      <th>405</th>\n",
       "      <td>31.0</td>\n",
       "      <td>4.0</td>\n",
       "      <td>119.0</td>\n",
       "      <td>82.0</td>\n",
       "      <td>2720.0</td>\n",
       "      <td>19.4</td>\n",
       "      <td>82.0</td>\n",
       "      <td>1.0</td>\n",
       "      <td>chevy s-10</td>\n",
       "    </tr>\n",
       "  </tbody>\n",
       "</table>\n",
       "<p>406 rows × 9 columns</p>\n",
       "</div>"
      ],
      "text/plain": [
       "      MPG  Cylinders  Displacement  Horse power  Weight  Acceleration  \\\n",
       "0    18.0        8.0         307.0        130.0  3504.0          12.0   \n",
       "1    15.0        8.0         350.0        165.0  3693.0          11.5   \n",
       "2    18.0        8.0         318.0        150.0  3436.0          11.0   \n",
       "3    16.0        8.0         304.0        150.0  3433.0          12.0   \n",
       "4    17.0        8.0         302.0        140.0  3449.0          10.5   \n",
       "..    ...        ...           ...          ...     ...           ...   \n",
       "401  27.0        4.0         140.0         86.0  2790.0          15.6   \n",
       "402  44.0        4.0          97.0         52.0  2130.0          24.6   \n",
       "403  32.0        4.0         135.0         84.0  2295.0          11.6   \n",
       "404  28.0        4.0         120.0         79.0  2625.0          18.6   \n",
       "405  31.0        4.0         119.0         82.0  2720.0          19.4   \n",
       "\n",
       "     Model Year  Origin                   Car Name  \n",
       "0          70.0     1.0  chevrolet chevelle malibu  \n",
       "1          70.0     1.0          buick skylark 320  \n",
       "2          70.0     1.0         plymouth satellite  \n",
       "3          70.0     1.0              amc rebel sst  \n",
       "4          70.0     1.0                ford torino  \n",
       "..          ...     ...                        ...  \n",
       "401        82.0     1.0            ford mustang gl  \n",
       "402        82.0     2.0                  vw pickup  \n",
       "403        82.0     1.0              dodge rampage  \n",
       "404        82.0     1.0                ford ranger  \n",
       "405        82.0     1.0                 chevy s-10  \n",
       "\n",
       "[406 rows x 9 columns]"
      ]
     },
     "execution_count": 72,
     "metadata": {},
     "output_type": "execute_result"
    }
   ],
   "source": [
    "autos=pd.read_csv('autos.csv', delimiter='\\s+', names=['MPG', 'Cylinders', 'Displacement', 'Horse power',\n",
    "           'Weight', 'Acceleration', 'Model Year', 'Origin', 'Car Name'])\n",
    "autos"
   ]
  },
  {
   "cell_type": "code",
   "execution_count": 73,
   "id": "5682e240-9d51-45e7-b3e7-0422ea5904fe",
   "metadata": {},
   "outputs": [
    {
     "name": "stdout",
     "output_type": "stream",
     "text": [
      "<class 'pandas.core.frame.DataFrame'>\n",
      "RangeIndex: 406 entries, 0 to 405\n",
      "Data columns (total 9 columns):\n",
      " #   Column        Non-Null Count  Dtype  \n",
      "---  ------        --------------  -----  \n",
      " 0   MPG           398 non-null    float64\n",
      " 1   Cylinders     406 non-null    float64\n",
      " 2   Displacement  406 non-null    float64\n",
      " 3   Horse power   400 non-null    float64\n",
      " 4   Weight        406 non-null    float64\n",
      " 5   Acceleration  406 non-null    float64\n",
      " 6   Model Year    406 non-null    float64\n",
      " 7   Origin        406 non-null    float64\n",
      " 8   Car Name      406 non-null    object \n",
      "dtypes: float64(8), object(1)\n",
      "memory usage: 28.7+ KB\n"
     ]
    }
   ],
   "source": [
    "autos.info()"
   ]
  },
  {
   "cell_type": "markdown",
   "id": "8ff7d0b2-5014-4615-bccf-f14858b7ddb9",
   "metadata": {},
   "source": [
    "4.3.1 ¿Qué coche pesa más de 5000 kg?"
   ]
  },
  {
   "cell_type": "code",
   "execution_count": 81,
   "id": "475390f8-9124-4a0f-8ee0-da4811692d75",
   "metadata": {},
   "outputs": [
    {
     "data": {
      "text/html": [
       "<div>\n",
       "<style scoped>\n",
       "    .dataframe tbody tr th:only-of-type {\n",
       "        vertical-align: middle;\n",
       "    }\n",
       "\n",
       "    .dataframe tbody tr th {\n",
       "        vertical-align: top;\n",
       "    }\n",
       "\n",
       "    .dataframe thead th {\n",
       "        text-align: right;\n",
       "    }\n",
       "</style>\n",
       "<table border=\"1\" class=\"dataframe\">\n",
       "  <thead>\n",
       "    <tr style=\"text-align: right;\">\n",
       "      <th></th>\n",
       "      <th>MPG</th>\n",
       "      <th>Cylinders</th>\n",
       "      <th>Displacement</th>\n",
       "      <th>Horse power</th>\n",
       "      <th>Weight</th>\n",
       "      <th>Acceleration</th>\n",
       "      <th>Model Year</th>\n",
       "      <th>Origin</th>\n",
       "      <th>Car Name</th>\n",
       "    </tr>\n",
       "  </thead>\n",
       "  <tbody>\n",
       "    <tr>\n",
       "      <th>51</th>\n",
       "      <td>13.0</td>\n",
       "      <td>8.0</td>\n",
       "      <td>400.0</td>\n",
       "      <td>175.0</td>\n",
       "      <td>5140.0</td>\n",
       "      <td>12.0</td>\n",
       "      <td>71.0</td>\n",
       "      <td>1.0</td>\n",
       "      <td>pontiac safari (sw)</td>\n",
       "    </tr>\n",
       "  </tbody>\n",
       "</table>\n",
       "</div>"
      ],
      "text/plain": [
       "     MPG  Cylinders  Displacement  Horse power  Weight  Acceleration  \\\n",
       "51  13.0        8.0         400.0        175.0  5140.0          12.0   \n",
       "\n",
       "    Model Year  Origin             Car Name  \n",
       "51        71.0     1.0  pontiac safari (sw)  "
      ]
     },
     "execution_count": 81,
     "metadata": {},
     "output_type": "execute_result"
    }
   ],
   "source": [
    "autos.loc[autos['Weight'] > 5000]"
   ]
  },
  {
   "cell_type": "markdown",
   "id": "465de39c-1dc2-410d-a1ba-914e8394a02f",
   "metadata": {},
   "source": [
    "4.3.2 ¿Cuál es el número de cilindros más frecuente en los coches que son del año 76?"
   ]
  },
  {
   "cell_type": "code",
   "execution_count": 92,
   "id": "cadff172-cf90-4836-8763-0ee59e006560",
   "metadata": {},
   "outputs": [
    {
     "data": {
      "text/plain": [
       "0    4.0\n",
       "dtype: float64"
      ]
     },
     "execution_count": 92,
     "metadata": {},
     "output_type": "execute_result"
    }
   ],
   "source": [
    "autos[autos['Model Year']==76.0]['Cylinders'].mode()"
   ]
  },
  {
   "cell_type": "markdown",
   "id": "496f7f01-54bb-4662-a781-a35eeb770cfd",
   "metadata": {},
   "source": [
    "4.3.3 Compara el consumo medio de los coches fabricados en el año 70 con los del año 79 y calcula la diferencia."
   ]
  },
  {
   "cell_type": "code",
   "execution_count": 95,
   "id": "64da4b96-f841-4ce1-ac6d-309904977243",
   "metadata": {},
   "outputs": [
    {
     "data": {
      "text/plain": [
       "17.689655172413794"
      ]
     },
     "execution_count": 95,
     "metadata": {},
     "output_type": "execute_result"
    }
   ],
   "source": [
    "consumo_70 = autos[autos['Model Year']==70.0]['MPG'].mean()\n",
    "consumo_70"
   ]
  },
  {
   "cell_type": "code",
   "execution_count": 96,
   "id": "a1187860-96e7-4f45-b6d5-58a587de9a37",
   "metadata": {},
   "outputs": [
    {
     "data": {
      "text/plain": [
       "25.09310344827585"
      ]
     },
     "execution_count": 96,
     "metadata": {},
     "output_type": "execute_result"
    }
   ],
   "source": [
    "consumo_79 = autos[autos['Model Year']==79.0]['MPG'].mean()\n",
    "consumo_79"
   ]
  },
  {
   "cell_type": "code",
   "execution_count": 97,
   "id": "f74b011b-c153-4b63-ac65-74821baf2929",
   "metadata": {},
   "outputs": [
    {
     "data": {
      "text/plain": [
       "7.403448275862058"
      ]
     },
     "execution_count": 97,
     "metadata": {},
     "output_type": "execute_result"
    }
   ],
   "source": [
    "difference = abs(consumo_70-consumo_79)\n",
    "difference"
   ]
  },
  {
   "cell_type": "markdown",
   "id": "d3826c47-530b-4519-a74f-21455737f2e4",
   "metadata": {},
   "source": [
    "4.3.4 Identifica las variables que contienen valores nulos (missing values) en caso que haya alguno."
   ]
  },
  {
   "cell_type": "code",
   "execution_count": 74,
   "id": "0d2205d1-317b-442c-971c-f4d4e812c4b0",
   "metadata": {},
   "outputs": [
    {
     "data": {
      "text/plain": [
       "Index(['MPG', 'Horse power'], dtype='object')"
      ]
     },
     "execution_count": 74,
     "metadata": {},
     "output_type": "execute_result"
    }
   ],
   "source": [
    "autos.columns[autos.isnull().any()]"
   ]
  },
  {
   "cell_type": "markdown",
   "id": "d17aa189-d4d9-43a4-a50b-719dd7d8a4a0",
   "metadata": {},
   "source": [
    "4.3.5 Consigue un DataFrame de aquellos registros que tengan algún valor nulo (NaN), filtrando el DataFrame original."
   ]
  },
  {
   "cell_type": "code",
   "execution_count": 75,
   "id": "f3ece0d3-1d53-47b4-b524-f711eab61010",
   "metadata": {},
   "outputs": [],
   "source": [
    "autos.dropna(axis=0, inplace=True)"
   ]
  },
  {
   "cell_type": "code",
   "execution_count": 76,
   "id": "dfd90750-a860-4551-8955-122320ec5270",
   "metadata": {},
   "outputs": [
    {
     "name": "stdout",
     "output_type": "stream",
     "text": [
      "<class 'pandas.core.frame.DataFrame'>\n",
      "Int64Index: 392 entries, 0 to 405\n",
      "Data columns (total 9 columns):\n",
      " #   Column        Non-Null Count  Dtype  \n",
      "---  ------        --------------  -----  \n",
      " 0   MPG           392 non-null    float64\n",
      " 1   Cylinders     392 non-null    float64\n",
      " 2   Displacement  392 non-null    float64\n",
      " 3   Horse power   392 non-null    float64\n",
      " 4   Weight        392 non-null    float64\n",
      " 5   Acceleration  392 non-null    float64\n",
      " 6   Model Year    392 non-null    float64\n",
      " 7   Origin        392 non-null    float64\n",
      " 8   Car Name      392 non-null    object \n",
      "dtypes: float64(8), object(1)\n",
      "memory usage: 30.6+ KB\n"
     ]
    }
   ],
   "source": [
    "autos.info()"
   ]
  },
  {
   "cell_type": "code",
   "execution_count": 77,
   "id": "ce3914b7-6a07-45ea-b71e-86233d1bbf8b",
   "metadata": {},
   "outputs": [
    {
     "data": {
      "text/plain": [
       "Index([], dtype='object')"
      ]
     },
     "execution_count": 77,
     "metadata": {},
     "output_type": "execute_result"
    }
   ],
   "source": [
    "autos.columns[autos.isnull().any()]"
   ]
  },
  {
   "cell_type": "markdown",
   "id": "ea06074e-a32b-4518-b47c-de1521235a31",
   "metadata": {},
   "source": [
    "4.3.6 Calcula la frecuencia del número de cilindros entre los registros del DataFrame anterior (la tabla con valores perdidos)."
   ]
  },
  {
   "cell_type": "code",
   "execution_count": 101,
   "id": "9818672d-48db-4a5d-9bc2-cd4d3e6fdae0",
   "metadata": {},
   "outputs": [
    {
     "data": {
      "text/plain": [
       "0    4.0\n",
       "dtype: float64"
      ]
     },
     "execution_count": 101,
     "metadata": {},
     "output_type": "execute_result"
    }
   ],
   "source": [
    "autos['Cylinders'].mode()"
   ]
  },
  {
   "cell_type": "markdown",
   "id": "e5b23caa-92dd-41b6-9063-cb7364ba4bd2",
   "metadata": {},
   "source": [
    "4.3.7 Crea un DataFrame de los modelos con 6 o más cilindros, que pesén más de 4000 kg y consumen menos o igual que 10 galón por milla, filtrando el dataset original."
   ]
  },
  {
   "cell_type": "code",
   "execution_count": 124,
   "id": "9ba32881-bb7f-48eb-a675-00e5318cfed6",
   "metadata": {},
   "outputs": [
    {
     "data": {
      "text/html": [
       "<div>\n",
       "<style scoped>\n",
       "    .dataframe tbody tr th:only-of-type {\n",
       "        vertical-align: middle;\n",
       "    }\n",
       "\n",
       "    .dataframe tbody tr th {\n",
       "        vertical-align: top;\n",
       "    }\n",
       "\n",
       "    .dataframe thead th {\n",
       "        text-align: right;\n",
       "    }\n",
       "</style>\n",
       "<table border=\"1\" class=\"dataframe\">\n",
       "  <thead>\n",
       "    <tr style=\"text-align: right;\">\n",
       "      <th></th>\n",
       "      <th>MPG</th>\n",
       "      <th>Cylinders</th>\n",
       "      <th>Displacement</th>\n",
       "      <th>Horse power</th>\n",
       "      <th>Weight</th>\n",
       "      <th>Acceleration</th>\n",
       "      <th>Model Year</th>\n",
       "      <th>Origin</th>\n",
       "      <th>Car Name</th>\n",
       "    </tr>\n",
       "  </thead>\n",
       "  <tbody>\n",
       "    <tr>\n",
       "      <th>31</th>\n",
       "      <td>10.0</td>\n",
       "      <td>8.0</td>\n",
       "      <td>360.0</td>\n",
       "      <td>215.0</td>\n",
       "      <td>4615.0</td>\n",
       "      <td>14.0</td>\n",
       "      <td>70.0</td>\n",
       "      <td>1.0</td>\n",
       "      <td>ford f250</td>\n",
       "    </tr>\n",
       "    <tr>\n",
       "      <th>32</th>\n",
       "      <td>10.0</td>\n",
       "      <td>8.0</td>\n",
       "      <td>307.0</td>\n",
       "      <td>200.0</td>\n",
       "      <td>4376.0</td>\n",
       "      <td>15.0</td>\n",
       "      <td>70.0</td>\n",
       "      <td>1.0</td>\n",
       "      <td>chevy c20</td>\n",
       "    </tr>\n",
       "    <tr>\n",
       "      <th>34</th>\n",
       "      <td>9.0</td>\n",
       "      <td>8.0</td>\n",
       "      <td>304.0</td>\n",
       "      <td>193.0</td>\n",
       "      <td>4732.0</td>\n",
       "      <td>18.5</td>\n",
       "      <td>70.0</td>\n",
       "      <td>1.0</td>\n",
       "      <td>hi 1200d</td>\n",
       "    </tr>\n",
       "  </tbody>\n",
       "</table>\n",
       "</div>"
      ],
      "text/plain": [
       "     MPG  Cylinders  Displacement  Horse power  Weight  Acceleration  \\\n",
       "31  10.0        8.0         360.0        215.0  4615.0          14.0   \n",
       "32  10.0        8.0         307.0        200.0  4376.0          15.0   \n",
       "34   9.0        8.0         304.0        193.0  4732.0          18.5   \n",
       "\n",
       "    Model Year  Origin   Car Name  \n",
       "31        70.0     1.0  ford f250  \n",
       "32        70.0     1.0  chevy c20  \n",
       "34        70.0     1.0   hi 1200d  "
      ]
     },
     "execution_count": 124,
     "metadata": {},
     "output_type": "execute_result"
    }
   ],
   "source": [
    "autos_filtrado=autos[(autos['Cylinders']>=6) & (autos['Weight']>4000) & (autos['MPG']<=10)]\n",
    "autos_filtrado"
   ]
  },
  {
   "cell_type": "code",
   "execution_count": null,
   "id": "ce68df66-8738-4ab1-9a59-9d8171b1dc72",
   "metadata": {},
   "outputs": [],
   "source": []
  }
 ],
 "metadata": {
  "kernelspec": {
   "display_name": "Python 3.9.10 64-bit",
   "language": "python",
   "name": "python3"
  },
  "language_info": {
   "codemirror_mode": {
    "name": "ipython",
    "version": 3
   },
   "file_extension": ".py",
   "mimetype": "text/x-python",
   "name": "python",
   "nbconvert_exporter": "python",
   "pygments_lexer": "ipython3",
   "version": "3.9.10"
  },
  "vscode": {
   "interpreter": {
    "hash": "4df6de8a2ad968c3d88ac569506327777d0b086099f01f429e5f01001212510a"
   }
  }
 },
 "nbformat": 4,
 "nbformat_minor": 5
}
