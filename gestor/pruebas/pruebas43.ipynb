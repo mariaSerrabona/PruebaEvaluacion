{
 "cells": [
  {
   "cell_type": "code",
   "execution_count": 1,
   "id": "03fcf31f-8073-456c-9c8b-9a95ce31b343",
   "metadata": {},
   "outputs": [],
   "source": [
    "import numpy as np\n",
    "import pandas as pd"
   ]
  },
  {
   "cell_type": "code",
   "execution_count": 2,
   "id": "d3f83c3e-0c6b-478f-be79-59e8f731c191",
   "metadata": {},
   "outputs": [
    {
     "data": {
      "text/html": [
       "<div>\n",
       "<style scoped>\n",
       "    .dataframe tbody tr th:only-of-type {\n",
       "        vertical-align: middle;\n",
       "    }\n",
       "\n",
       "    .dataframe tbody tr th {\n",
       "        vertical-align: top;\n",
       "    }\n",
       "\n",
       "    .dataframe thead th {\n",
       "        text-align: right;\n",
       "    }\n",
       "</style>\n",
       "<table border=\"1\" class=\"dataframe\">\n",
       "  <thead>\n",
       "    <tr style=\"text-align: right;\">\n",
       "      <th></th>\n",
       "      <th>MPG</th>\n",
       "      <th>Cylinders</th>\n",
       "      <th>Displacement</th>\n",
       "      <th>Horse power</th>\n",
       "      <th>Weight</th>\n",
       "      <th>Acceleration</th>\n",
       "      <th>Model Year</th>\n",
       "      <th>Origin</th>\n",
       "      <th>Car Name</th>\n",
       "    </tr>\n",
       "  </thead>\n",
       "  <tbody>\n",
       "    <tr>\n",
       "      <th>0</th>\n",
       "      <td>18.0</td>\n",
       "      <td>8.0</td>\n",
       "      <td>307.0</td>\n",
       "      <td>130.0</td>\n",
       "      <td>3504.0</td>\n",
       "      <td>12.0</td>\n",
       "      <td>70.0</td>\n",
       "      <td>1.0</td>\n",
       "      <td>chevrolet chevelle malibu</td>\n",
       "    </tr>\n",
       "    <tr>\n",
       "      <th>1</th>\n",
       "      <td>15.0</td>\n",
       "      <td>8.0</td>\n",
       "      <td>350.0</td>\n",
       "      <td>165.0</td>\n",
       "      <td>3693.0</td>\n",
       "      <td>11.5</td>\n",
       "      <td>70.0</td>\n",
       "      <td>1.0</td>\n",
       "      <td>buick skylark 320</td>\n",
       "    </tr>\n",
       "    <tr>\n",
       "      <th>2</th>\n",
       "      <td>18.0</td>\n",
       "      <td>8.0</td>\n",
       "      <td>318.0</td>\n",
       "      <td>150.0</td>\n",
       "      <td>3436.0</td>\n",
       "      <td>11.0</td>\n",
       "      <td>70.0</td>\n",
       "      <td>1.0</td>\n",
       "      <td>plymouth satellite</td>\n",
       "    </tr>\n",
       "    <tr>\n",
       "      <th>3</th>\n",
       "      <td>16.0</td>\n",
       "      <td>8.0</td>\n",
       "      <td>304.0</td>\n",
       "      <td>150.0</td>\n",
       "      <td>3433.0</td>\n",
       "      <td>12.0</td>\n",
       "      <td>70.0</td>\n",
       "      <td>1.0</td>\n",
       "      <td>amc rebel sst</td>\n",
       "    </tr>\n",
       "    <tr>\n",
       "      <th>4</th>\n",
       "      <td>17.0</td>\n",
       "      <td>8.0</td>\n",
       "      <td>302.0</td>\n",
       "      <td>140.0</td>\n",
       "      <td>3449.0</td>\n",
       "      <td>10.5</td>\n",
       "      <td>70.0</td>\n",
       "      <td>1.0</td>\n",
       "      <td>ford torino</td>\n",
       "    </tr>\n",
       "    <tr>\n",
       "      <th>...</th>\n",
       "      <td>...</td>\n",
       "      <td>...</td>\n",
       "      <td>...</td>\n",
       "      <td>...</td>\n",
       "      <td>...</td>\n",
       "      <td>...</td>\n",
       "      <td>...</td>\n",
       "      <td>...</td>\n",
       "      <td>...</td>\n",
       "    </tr>\n",
       "    <tr>\n",
       "      <th>401</th>\n",
       "      <td>27.0</td>\n",
       "      <td>4.0</td>\n",
       "      <td>140.0</td>\n",
       "      <td>86.0</td>\n",
       "      <td>2790.0</td>\n",
       "      <td>15.6</td>\n",
       "      <td>82.0</td>\n",
       "      <td>1.0</td>\n",
       "      <td>ford mustang gl</td>\n",
       "    </tr>\n",
       "    <tr>\n",
       "      <th>402</th>\n",
       "      <td>44.0</td>\n",
       "      <td>4.0</td>\n",
       "      <td>97.0</td>\n",
       "      <td>52.0</td>\n",
       "      <td>2130.0</td>\n",
       "      <td>24.6</td>\n",
       "      <td>82.0</td>\n",
       "      <td>2.0</td>\n",
       "      <td>vw pickup</td>\n",
       "    </tr>\n",
       "    <tr>\n",
       "      <th>403</th>\n",
       "      <td>32.0</td>\n",
       "      <td>4.0</td>\n",
       "      <td>135.0</td>\n",
       "      <td>84.0</td>\n",
       "      <td>2295.0</td>\n",
       "      <td>11.6</td>\n",
       "      <td>82.0</td>\n",
       "      <td>1.0</td>\n",
       "      <td>dodge rampage</td>\n",
       "    </tr>\n",
       "    <tr>\n",
       "      <th>404</th>\n",
       "      <td>28.0</td>\n",
       "      <td>4.0</td>\n",
       "      <td>120.0</td>\n",
       "      <td>79.0</td>\n",
       "      <td>2625.0</td>\n",
       "      <td>18.6</td>\n",
       "      <td>82.0</td>\n",
       "      <td>1.0</td>\n",
       "      <td>ford ranger</td>\n",
       "    </tr>\n",
       "    <tr>\n",
       "      <th>405</th>\n",
       "      <td>31.0</td>\n",
       "      <td>4.0</td>\n",
       "      <td>119.0</td>\n",
       "      <td>82.0</td>\n",
       "      <td>2720.0</td>\n",
       "      <td>19.4</td>\n",
       "      <td>82.0</td>\n",
       "      <td>1.0</td>\n",
       "      <td>chevy s-10</td>\n",
       "    </tr>\n",
       "  </tbody>\n",
       "</table>\n",
       "<p>406 rows × 9 columns</p>\n",
       "</div>"
      ],
      "text/plain": [
       "      MPG  Cylinders  Displacement  Horse power  Weight  Acceleration  \\\n",
       "0    18.0        8.0         307.0        130.0  3504.0          12.0   \n",
       "1    15.0        8.0         350.0        165.0  3693.0          11.5   \n",
       "2    18.0        8.0         318.0        150.0  3436.0          11.0   \n",
       "3    16.0        8.0         304.0        150.0  3433.0          12.0   \n",
       "4    17.0        8.0         302.0        140.0  3449.0          10.5   \n",
       "..    ...        ...           ...          ...     ...           ...   \n",
       "401  27.0        4.0         140.0         86.0  2790.0          15.6   \n",
       "402  44.0        4.0          97.0         52.0  2130.0          24.6   \n",
       "403  32.0        4.0         135.0         84.0  2295.0          11.6   \n",
       "404  28.0        4.0         120.0         79.0  2625.0          18.6   \n",
       "405  31.0        4.0         119.0         82.0  2720.0          19.4   \n",
       "\n",
       "     Model Year  Origin                   Car Name  \n",
       "0          70.0     1.0  chevrolet chevelle malibu  \n",
       "1          70.0     1.0          buick skylark 320  \n",
       "2          70.0     1.0         plymouth satellite  \n",
       "3          70.0     1.0              amc rebel sst  \n",
       "4          70.0     1.0                ford torino  \n",
       "..          ...     ...                        ...  \n",
       "401        82.0     1.0            ford mustang gl  \n",
       "402        82.0     2.0                  vw pickup  \n",
       "403        82.0     1.0              dodge rampage  \n",
       "404        82.0     1.0                ford ranger  \n",
       "405        82.0     1.0                 chevy s-10  \n",
       "\n",
       "[406 rows x 9 columns]"
      ]
     },
     "execution_count": 2,
     "metadata": {},
     "output_type": "execute_result"
    }
   ],
   "source": [
    "autos=pd.read_csv('autos.csv', sep='\\s+', names=['MPG', 'Cylinders', 'Displacement', 'Horse power',\n",
    "           'Weight', 'Acceleration', 'Model Year', 'Origin', 'Car Name'])\n",
    "autos"
   ]
  },
  {
   "cell_type": "code",
   "execution_count": 3,
   "id": "65a8876c-76e9-41d2-9000-51f32e68e4d8",
   "metadata": {},
   "outputs": [],
   "source": [
    "#autos=autos.dropna()\n",
    "#autos.isnull().sum()"
   ]
  },
  {
   "cell_type": "markdown",
   "id": "ed627e64-558f-42f9-aec4-bcc970254c8d",
   "metadata": {},
   "source": [
    "## 4.3.1 ¿Qué coche pesa más de 5000 kg?"
   ]
  },
  {
   "cell_type": "code",
   "execution_count": 4,
   "id": "665c4c71-4096-432f-8fd8-e62bb4aa8eeb",
   "metadata": {},
   "outputs": [
    {
     "data": {
      "text/plain": [
       "51    pontiac safari (sw)\n",
       "Name: Car Name, dtype: object"
      ]
     },
     "execution_count": 4,
     "metadata": {},
     "output_type": "execute_result"
    }
   ],
   "source": [
    "autos_mayores_5000 = autos[autos['Weight'] > 5000]\n",
    "autos_mayores_5000['Car Name']"
   ]
  },
  {
   "cell_type": "markdown",
   "id": "a68466f9-1365-4691-b4e8-ed1ef17e6514",
   "metadata": {},
   "source": [
    "## 4.3.2 ¿Cuál es el número de cilindros más frecuente en los coches que son del año 76?"
   ]
  },
  {
   "cell_type": "code",
   "execution_count": 5,
   "id": "1eae1b54-054b-4e39-a962-3f40bab5033f",
   "metadata": {},
   "outputs": [
    {
     "data": {
      "text/html": [
       "<div>\n",
       "<style scoped>\n",
       "    .dataframe tbody tr th:only-of-type {\n",
       "        vertical-align: middle;\n",
       "    }\n",
       "\n",
       "    .dataframe tbody tr th {\n",
       "        vertical-align: top;\n",
       "    }\n",
       "\n",
       "    .dataframe thead th {\n",
       "        text-align: right;\n",
       "    }\n",
       "</style>\n",
       "<table border=\"1\" class=\"dataframe\">\n",
       "  <thead>\n",
       "    <tr style=\"text-align: right;\">\n",
       "      <th></th>\n",
       "      <th>MPG</th>\n",
       "      <th>Cylinders</th>\n",
       "      <th>Displacement</th>\n",
       "      <th>Horse power</th>\n",
       "      <th>Weight</th>\n",
       "      <th>Acceleration</th>\n",
       "      <th>Model Year</th>\n",
       "      <th>Origin</th>\n",
       "      <th>Car Name</th>\n",
       "    </tr>\n",
       "  </thead>\n",
       "  <tbody>\n",
       "    <tr>\n",
       "      <th>189</th>\n",
       "      <td>28.0</td>\n",
       "      <td>4.0</td>\n",
       "      <td>107.0</td>\n",
       "      <td>86.0</td>\n",
       "      <td>2464.0</td>\n",
       "      <td>15.5</td>\n",
       "      <td>76.0</td>\n",
       "      <td>2.0</td>\n",
       "      <td>fiat 131</td>\n",
       "    </tr>\n",
       "    <tr>\n",
       "      <th>190</th>\n",
       "      <td>25.0</td>\n",
       "      <td>4.0</td>\n",
       "      <td>116.0</td>\n",
       "      <td>81.0</td>\n",
       "      <td>2220.0</td>\n",
       "      <td>16.9</td>\n",
       "      <td>76.0</td>\n",
       "      <td>2.0</td>\n",
       "      <td>opel 1900</td>\n",
       "    </tr>\n",
       "    <tr>\n",
       "      <th>191</th>\n",
       "      <td>25.0</td>\n",
       "      <td>4.0</td>\n",
       "      <td>140.0</td>\n",
       "      <td>92.0</td>\n",
       "      <td>2572.0</td>\n",
       "      <td>14.9</td>\n",
       "      <td>76.0</td>\n",
       "      <td>1.0</td>\n",
       "      <td>capri ii</td>\n",
       "    </tr>\n",
       "    <tr>\n",
       "      <th>192</th>\n",
       "      <td>26.0</td>\n",
       "      <td>4.0</td>\n",
       "      <td>98.0</td>\n",
       "      <td>79.0</td>\n",
       "      <td>2255.0</td>\n",
       "      <td>17.7</td>\n",
       "      <td>76.0</td>\n",
       "      <td>1.0</td>\n",
       "      <td>dodge colt</td>\n",
       "    </tr>\n",
       "    <tr>\n",
       "      <th>193</th>\n",
       "      <td>27.0</td>\n",
       "      <td>4.0</td>\n",
       "      <td>101.0</td>\n",
       "      <td>83.0</td>\n",
       "      <td>2202.0</td>\n",
       "      <td>15.3</td>\n",
       "      <td>76.0</td>\n",
       "      <td>2.0</td>\n",
       "      <td>renault 12tl</td>\n",
       "    </tr>\n",
       "  </tbody>\n",
       "</table>\n",
       "</div>"
      ],
      "text/plain": [
       "      MPG  Cylinders  Displacement  Horse power  Weight  Acceleration  \\\n",
       "189  28.0        4.0         107.0         86.0  2464.0          15.5   \n",
       "190  25.0        4.0         116.0         81.0  2220.0          16.9   \n",
       "191  25.0        4.0         140.0         92.0  2572.0          14.9   \n",
       "192  26.0        4.0          98.0         79.0  2255.0          17.7   \n",
       "193  27.0        4.0         101.0         83.0  2202.0          15.3   \n",
       "\n",
       "     Model Year  Origin      Car Name  \n",
       "189        76.0     2.0      fiat 131  \n",
       "190        76.0     2.0     opel 1900  \n",
       "191        76.0     1.0      capri ii  \n",
       "192        76.0     1.0    dodge colt  \n",
       "193        76.0     2.0  renault 12tl  "
      ]
     },
     "execution_count": 5,
     "metadata": {},
     "output_type": "execute_result"
    }
   ],
   "source": [
    "autos_76=autos[autos['Model Year']==76]\n",
    "autos_76.head()"
   ]
  },
  {
   "cell_type": "code",
   "execution_count": 12,
   "id": "d1c2cd71-837c-466d-9a7c-0647bd59ffa6",
   "metadata": {},
   "outputs": [
    {
     "data": {
      "text/plain": [
       "0    4.0\n",
       "dtype: float64"
      ]
     },
     "execution_count": 12,
     "metadata": {},
     "output_type": "execute_result"
    }
   ],
   "source": [
    "autos_76['Cylinders'].mode()"
   ]
  },
  {
   "cell_type": "code",
   "execution_count": null,
   "id": "d5eaaa12-f16c-4342-9d6d-1e1034e1ebf6",
   "metadata": {},
   "outputs": [],
   "source": []
  },
  {
   "cell_type": "markdown",
   "id": "3e9a48af-ab56-4979-b02d-02385aadccc1",
   "metadata": {},
   "source": [
    "## 4.3.3 Compara el consumo medio de los coches fabricados en el año 70 con los del año 79 y calcula la diferencia.\n"
   ]
  },
  {
   "cell_type": "code",
   "execution_count": 8,
   "id": "efe40f7a-b6ef-4f84-98bc-c5f1b6358a39",
   "metadata": {},
   "outputs": [],
   "source": [
    "autos_70=autos[autos['Model Year']==70]\n",
    "autos_79=autos[autos['Model Year']==79]"
   ]
  },
  {
   "cell_type": "code",
   "execution_count": 9,
   "id": "316bb92a-3cd3-4d72-98ab-1312f1599b54",
   "metadata": {},
   "outputs": [
    {
     "data": {
      "text/plain": [
       "17.689655172413794"
      ]
     },
     "execution_count": 9,
     "metadata": {},
     "output_type": "execute_result"
    }
   ],
   "source": [
    "autos_70['MPG'].mean()"
   ]
  },
  {
   "cell_type": "code",
   "execution_count": 10,
   "id": "51abec3e-2bbb-48bf-8877-502d6ea45306",
   "metadata": {},
   "outputs": [
    {
     "data": {
      "text/plain": [
       "25.09310344827585"
      ]
     },
     "execution_count": 10,
     "metadata": {},
     "output_type": "execute_result"
    }
   ],
   "source": [
    "autos_79['MPG'].mean()"
   ]
  },
  {
   "cell_type": "markdown",
   "id": "8871eafa-3aba-4a1e-b115-bde739675313",
   "metadata": {},
   "source": [
    "solución: Comparando las medias de consumo entre los coches de 1970 y 1979 podemos observar como los coches más reciente consumen má que los antiguos"
   ]
  },
  {
   "cell_type": "markdown",
   "id": "e6080e0a-262d-4fd9-8e0a-b426b645df7a",
   "metadata": {},
   "source": [
    "## 4.3.7 Crea un DataFrame de los modelos con 6 o más cilindros, que pesén más de 4000 kg y consumen menos o igual que 10 galón por milla, filtrando el dataset original.\n"
   ]
  },
  {
   "cell_type": "code",
   "execution_count": 11,
   "id": "9b17623d-5b40-44db-a8dc-fb35acb93e12",
   "metadata": {},
   "outputs": [
    {
     "data": {
      "text/html": [
       "<div>\n",
       "<style scoped>\n",
       "    .dataframe tbody tr th:only-of-type {\n",
       "        vertical-align: middle;\n",
       "    }\n",
       "\n",
       "    .dataframe tbody tr th {\n",
       "        vertical-align: top;\n",
       "    }\n",
       "\n",
       "    .dataframe thead th {\n",
       "        text-align: right;\n",
       "    }\n",
       "</style>\n",
       "<table border=\"1\" class=\"dataframe\">\n",
       "  <thead>\n",
       "    <tr style=\"text-align: right;\">\n",
       "      <th></th>\n",
       "      <th>MPG</th>\n",
       "      <th>Cylinders</th>\n",
       "      <th>Displacement</th>\n",
       "      <th>Horse power</th>\n",
       "      <th>Weight</th>\n",
       "      <th>Acceleration</th>\n",
       "      <th>Model Year</th>\n",
       "      <th>Origin</th>\n",
       "      <th>Car Name</th>\n",
       "    </tr>\n",
       "  </thead>\n",
       "  <tbody>\n",
       "    <tr>\n",
       "      <th>31</th>\n",
       "      <td>10.0</td>\n",
       "      <td>8.0</td>\n",
       "      <td>360.0</td>\n",
       "      <td>215.0</td>\n",
       "      <td>4615.0</td>\n",
       "      <td>14.0</td>\n",
       "      <td>70.0</td>\n",
       "      <td>1.0</td>\n",
       "      <td>ford f250</td>\n",
       "    </tr>\n",
       "    <tr>\n",
       "      <th>32</th>\n",
       "      <td>10.0</td>\n",
       "      <td>8.0</td>\n",
       "      <td>307.0</td>\n",
       "      <td>200.0</td>\n",
       "      <td>4376.0</td>\n",
       "      <td>15.0</td>\n",
       "      <td>70.0</td>\n",
       "      <td>1.0</td>\n",
       "      <td>chevy c20</td>\n",
       "    </tr>\n",
       "    <tr>\n",
       "      <th>34</th>\n",
       "      <td>9.0</td>\n",
       "      <td>8.0</td>\n",
       "      <td>304.0</td>\n",
       "      <td>193.0</td>\n",
       "      <td>4732.0</td>\n",
       "      <td>18.5</td>\n",
       "      <td>70.0</td>\n",
       "      <td>1.0</td>\n",
       "      <td>hi 1200d</td>\n",
       "    </tr>\n",
       "  </tbody>\n",
       "</table>\n",
       "</div>"
      ],
      "text/plain": [
       "     MPG  Cylinders  Displacement  Horse power  Weight  Acceleration  \\\n",
       "31  10.0        8.0         360.0        215.0  4615.0          14.0   \n",
       "32  10.0        8.0         307.0        200.0  4376.0          15.0   \n",
       "34   9.0        8.0         304.0        193.0  4732.0          18.5   \n",
       "\n",
       "    Model Year  Origin   Car Name  \n",
       "31        70.0     1.0  ford f250  \n",
       "32        70.0     1.0  chevy c20  \n",
       "34        70.0     1.0   hi 1200d  "
      ]
     },
     "execution_count": 11,
     "metadata": {},
     "output_type": "execute_result"
    }
   ],
   "source": [
    "autos_filtrado=autos[(autos['Cylinders']>=6) & (autos['Weight']>4000) & (autos['MPG']<=10)]\n",
    "autos_filtrado"
   ]
  },
  {
   "cell_type": "code",
   "execution_count": 21,
   "id": "daf32fb3-53b7-49c9-b860-776617b5af4a",
   "metadata": {},
   "outputs": [
    {
     "name": "stdout",
     "output_type": "stream",
     "text": [
      "      MPG  Cylinders  Displacement  Horse power  Weight  Acceleration  \\\n",
      "10    NaN        4.0         133.0        115.0  3090.0          17.5   \n",
      "11    NaN        8.0         350.0        165.0  4142.0          11.5   \n",
      "12    NaN        8.0         351.0        153.0  4034.0          11.0   \n",
      "13    NaN        8.0         383.0        175.0  4166.0          10.5   \n",
      "14    NaN        8.0         360.0        175.0  3850.0          11.0   \n",
      "17    NaN        8.0         302.0        140.0  3353.0           8.0   \n",
      "38   25.0        4.0          98.0          NaN  2046.0          19.0   \n",
      "39    NaN        4.0          97.0         48.0  1978.0          20.0   \n",
      "133  21.0        6.0         200.0          NaN  2875.0          17.0   \n",
      "337  40.9        4.0          85.0          NaN  1835.0          17.3   \n",
      "343  23.6        4.0         140.0          NaN  2905.0          14.3   \n",
      "361  34.5        4.0         100.0          NaN  2320.0          15.8   \n",
      "367   NaN        4.0         121.0        110.0  2800.0          15.4   \n",
      "382  23.0        4.0         151.0          NaN  3035.0          20.5   \n",
      "\n",
      "     Model Year  Origin                          Car Name  \n",
      "10         70.0     2.0              citroen ds-21 pallas  \n",
      "11         70.0     1.0  chevrolet chevelle concours (sw)  \n",
      "12         70.0     1.0                  ford torino (sw)  \n",
      "13         70.0     1.0           plymouth satellite (sw)  \n",
      "14         70.0     1.0                amc rebel sst (sw)  \n",
      "17         70.0     1.0             ford mustang boss 302  \n",
      "38         71.0     1.0                        ford pinto  \n",
      "39         71.0     2.0       volkswagen super beetle 117  \n",
      "133        74.0     1.0                     ford maverick  \n",
      "337        80.0     2.0              renault lecar deluxe  \n",
      "343        80.0     1.0                ford mustang cobra  \n",
      "361        81.0     2.0                       renault 18i  \n",
      "367        81.0     2.0                         saab 900s  \n",
      "382        82.0     1.0                    amc concord dl  \n"
     ]
    }
   ],
   "source": [
    "null_columns=autos.columns[autos.isnull().any()]\n",
    "autos[null_columns].isnull().sum()\n",
    "print(autos[autos.isnull().any(axis=1)])"
   ]
  },
  {
   "cell_type": "code",
   "execution_count": 20,
   "id": "a37026f4-ad42-4565-acba-1461514c9fd4",
   "metadata": {},
   "outputs": [
    {
     "data": {
      "text/html": [
       "<div>\n",
       "<style scoped>\n",
       "    .dataframe tbody tr th:only-of-type {\n",
       "        vertical-align: middle;\n",
       "    }\n",
       "\n",
       "    .dataframe tbody tr th {\n",
       "        vertical-align: top;\n",
       "    }\n",
       "\n",
       "    .dataframe thead th {\n",
       "        text-align: right;\n",
       "    }\n",
       "</style>\n",
       "<table border=\"1\" class=\"dataframe\">\n",
       "  <thead>\n",
       "    <tr style=\"text-align: right;\">\n",
       "      <th></th>\n",
       "      <th>0</th>\n",
       "    </tr>\n",
       "  </thead>\n",
       "  <tbody>\n",
       "    <tr>\n",
       "      <th>0</th>\n",
       "      <td>MPG</td>\n",
       "    </tr>\n",
       "    <tr>\n",
       "      <th>1</th>\n",
       "      <td>Horse power</td>\n",
       "    </tr>\n",
       "  </tbody>\n",
       "</table>\n",
       "</div>"
      ],
      "text/plain": [
       "             0\n",
       "0          MPG\n",
       "1  Horse power"
      ]
     },
     "execution_count": 20,
     "metadata": {},
     "output_type": "execute_result"
    }
   ],
   "source": [
    "df_null = pd.DataFrame (null_columns)\n",
    "df_null"
   ]
  },
  {
   "cell_type": "code",
   "execution_count": null,
   "id": "d354159e-aab9-4f89-a5ac-279cd053d2e5",
   "metadata": {},
   "outputs": [],
   "source": []
  }
 ],
 "metadata": {
  "kernelspec": {
   "display_name": "Python 3",
   "language": "python",
   "name": "python3"
  },
  "language_info": {
   "codemirror_mode": {
    "name": "ipython",
    "version": 3
   },
   "file_extension": ".py",
   "mimetype": "text/x-python",
   "name": "python",
   "nbconvert_exporter": "python",
   "pygments_lexer": "ipython3",
   "version": "3.8.8"
  }
 },
 "nbformat": 4,
 "nbformat_minor": 5
}
